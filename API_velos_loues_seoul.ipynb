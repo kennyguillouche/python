{
 "cells": [
  {
   "cell_type": "markdown",
   "metadata": {},
   "source": [
    "# API : Prédiction du nombre de vélos loués à SEOUL sur une période "
   ]
  },
  {
   "cell_type": "markdown",
   "metadata": {},
   "source": [
    "Dans la partie \"Projet_prediction_des_velos_seouls.ipynb\" nous avons pu étudier les données et créer un modèle adapté à la problématique de récupération du nombre de vélos loués à seoul sur une période donnée. Ce modèle a été enregistré et nous allons le réutiliser sous forme d'API afin de réaliser des prédictions."
   ]
  },
  {
   "cell_type": "markdown",
   "metadata": {},
   "source": [
    "Une API fonctionne généralement via un système de Client-Serveur. Le serveur va contenir notre modèle et va prédire le nombre de vélos loués à partir des données fournis par le client lors d'une requete."
   ]
  },
  {
   "cell_type": "markdown",
   "metadata": {},
   "source": [
    "Les étapes de fonctionnement sont :\n",
    "- On lance le serveur sur une adresse IP et un port, on met en place un point d'acces au serveur via /api\n",
    "- Le client va emettre une requete sur notre serveur via son url \"http://IP:Port/api\" (la requete contient les données nécessaire pour prédire)\n",
    "- Le serveur reçoit la requete avec les données (GET) , ils utilisent le modèle pour prédire un résultat, le serveur retourne la prédiction (POST)\n",
    "- Le client reçoit la réponse de la prédiction\n"
   ]
  },
  {
   "cell_type": "markdown",
   "metadata": {},
   "source": [
    "Pour mettre en place notre APi, plusieurs solutions s'offraient à nous, parmis celles-ci Flask est celle que nous avons retenu."
   ]
  },
  {
   "cell_type": "markdown",
   "metadata": {},
   "source": [
    "# Serveur Flask"
   ]
  },
  {
   "cell_type": "markdown",
   "metadata": {},
   "source": [
    "Le serveur Flask fonctionne généralement sous un .py qu'on vient lancer depuis la console via les commandes suivantes :\n",
    "- pip install flask\n",
    "- set FLASK_APP=serveur.py\n",
    "- flask run\n",
    "\n",
    "Le fichier d'extension python (.py) va contenir le code de notre serveur."
   ]
  },
  {
   "cell_type": "markdown",
   "metadata": {},
   "source": [
    "Cependant afin de s'affranchir de la console, nous avons proposé de lancer le serveur directement depuis jupyter notebook à l'aide d'un Thread."
   ]
  },
  {
   "cell_type": "code",
   "execution_count": 1,
   "metadata": {},
   "outputs": [
    {
     "name": "stderr",
     "output_type": "stream",
     "text": [
      " * Running on http://localhost:6666/ (Press CTRL+C to quit)\n"
     ]
    }
   ],
   "source": [
    "#Cree un serveur local\n",
    "from flask import Flask, request, redirect, url_for, flash, jsonify\n",
    "import numpy as np\n",
    "import pickle\n",
    "import json\n",
    "import pandas as pd\n",
    "\n",
    "#Le faire fonctionner en thread\n",
    "import socket\n",
    "import threading\n",
    "import uuid\n",
    "from typing import Any, Callable, cast, Optional\n",
    "\n",
    "from flask import Flask, abort, jsonify\n",
    "from flask_cors import cross_origin\n",
    "from werkzeug.serving import run_simple\n",
    "\n",
    "app = Flask('DataServer')\n",
    "\n",
    "#Port de notre serveur\n",
    "_port: int = 6666\n",
    "\n",
    "#notre modèle\n",
    "filename = 'catboost_model'\n",
    "loaded_model = pickle.load(open(filename, 'rb'))\n",
    "\n",
    "#dans notre serveur\n",
    "#Si un client fait une requete sur /api \n",
    "#On prend les données envoyés par la requete \n",
    "#On retourne le résultat de la prédiction\n",
    "@app.route('/api/', methods=['GET','POST'])\n",
    "def makecalc():\n",
    "    data = request.get_json()\n",
    "    y_test_predict = loaded_model.predict(data)\n",
    "    return jsonify(str(int(y_test_predict[0])))\n",
    "\n",
    "#Initiatisation du serveur\n",
    "def _init_port() -> int:\n",
    "    \"\"\"Creates a random free port.\"\"\"\n",
    "    # see https://stackoverflow.com/a/5089963/2297345\n",
    "    sock = socket.socket(socket.AF_INET, socket.SOCK_STREAM)\n",
    "    sock.bind(('localhost', _port))\n",
    "\n",
    "    port = sock.getsockname()[1]\n",
    "    sock.close()\n",
    "    return cast(int, port)\n",
    "\n",
    "#Lancement du serveur sous forme de thread afin de fonctionner dans jupyter notebook\n",
    "def _start_sever() -> None:\n",
    "    \"\"\"Starts a flask server in the background.\"\"\"\n",
    "    _port = _init_port()\n",
    "    thread = threading.Thread(target=lambda: run_simple('localhost', _port, app))\n",
    "    thread.start()\n",
    "\n",
    "#Lance le serveur\n",
    "_start_sever()"
   ]
  },
  {
   "cell_type": "markdown",
   "metadata": {},
   "source": [
    "Notre serveur est maintenant actif sur http://localhost:6666/, pour faire une prédiction il suffit de faire une requête sur l'adresse http://localhost:6666/api/"
   ]
  },
  {
   "cell_type": "markdown",
   "metadata": {},
   "source": [
    "# Client"
   ]
  },
  {
   "cell_type": "markdown",
   "metadata": {},
   "source": [
    "Le client est la personne souhaitant à partir de ses données réaliser une prédiction. Pour réaliser celle-ci, le client va faire une requete sur notre serveur lancé au préalable et récupérer le résultat pour l'afficher."
   ]
  },
  {
   "cell_type": "code",
   "execution_count": 4,
   "metadata": {},
   "outputs": [
    {
     "name": "stderr",
     "output_type": "stream",
     "text": [
      "127.0.0.1 - - [07/Jan/2021 17:50:40] \"\u001b[37mPOST /api/ HTTP/1.1\u001b[0m\" 200 -\n"
     ]
    },
    {
     "name": "stdout",
     "output_type": "stream",
     "text": [
      "Le nombre de vélo loué pour cette heure et ce jour là sera de :\"234\"\n",
      "\n"
     ]
    }
   ],
   "source": [
    "import requests\n",
    "import json\n",
    "\n",
    "#Adresse url de notre API\n",
    "url = 'http://localhost:6666/api/'\n",
    "\n",
    "#Nos données d'entrées du modèle servant à prédire le nombre de vélo loué :\n",
    "#Hour\n",
    "#Temperature(°C)\n",
    "#Humidity(%)\n",
    "#Wind speed (m/s)\n",
    "#Visibility (10m)\n",
    "#Dew point temperature(°C)\n",
    "#Solar Radiation (MJ/m2)\n",
    "#Rainfall(mm)\n",
    "#Snowfall (cm)\n",
    "#Seasons\n",
    "#Holiday\n",
    "#Functioning Day\n",
    "#Year\n",
    "#Month\n",
    "#Day\n",
    "#DayOfWeek\n",
    "#isWeekEnd\n",
    "data = [[0, -5.2, 37, 2.2, 2000, -17.6, 0.00, 0.0, 0.0, 0, False, True, 2017, 12, 1, 4, False]]\n",
    "\n",
    "#Transforme notre list en json\n",
    "j_data = json.dumps(data)\n",
    "headers = {'content-type': 'application/json', 'Accept-Charset': 'UTF-8'}\n",
    "\n",
    "#Envoie la requete contenant les données à notre API\n",
    "#Recupere le résultat de l'API\n",
    "r = requests.post(url, data=j_data, headers=headers)\n",
    "print(\"Le nombre de vélo loué pour cette heure et ce jour là sera de :\" + r.text)"
   ]
  },
  {
   "cell_type": "code",
   "execution_count": null,
   "metadata": {},
   "outputs": [],
   "source": []
  }
 ],
 "metadata": {
  "kernelspec": {
   "display_name": "Python 3",
   "language": "python",
   "name": "python3"
  },
  "language_info": {
   "codemirror_mode": {
    "name": "ipython",
    "version": 3
   },
   "file_extension": ".py",
   "mimetype": "text/x-python",
   "name": "python",
   "nbconvert_exporter": "python",
   "pygments_lexer": "ipython3",
   "version": "3.8.3"
  }
 },
 "nbformat": 4,
 "nbformat_minor": 4
}
