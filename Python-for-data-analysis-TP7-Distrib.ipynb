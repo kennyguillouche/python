{
 "cells": [
  {
   "cell_type": "markdown",
   "metadata": {},
   "source": [
    "# PYTHON FOR DATA ANALYSIS TP7 : \n",
    "\n",
    "\n",
    "\n",
    "## 1) Machine learning 101  2/2\n",
    "\n",
    "Last time we've scratched the surface of ML with Sci Kit Learn. We've loaded example datasets, learned how to split data into train set and train set, choosed some classifiers, manually decided some hyperparameter, trained the model and evaluated it using accuracy.\n",
    "\n",
    "This time you will dig further using various online materials. You will learn new metrics to validate the efficiency of your model, and also methods to automatically choose the best combination of hyperparameters for your models.\n",
    "\n",
    "You will find below pointers to articles on these subjects, with code examples. These lessons are very progressive and well written, please follow them conscientiously, in order, run all the cells, and make sure to understand every single part of it : \n",
    "\n",
    "\n",
    "### 1.1) Unsupervised learning\n",
    "\n",
    "We've only practiced supervised learning, by feeding datasets with labelled data.\n",
    "ML is also useful with unlabeled data, to help us identify distinct groups of data :\n",
    "\n",
    "https://jakevdp.github.io/PythonDataScienceHandbook/05.02-introducing-scikit-learn.html\n",
    "\n",
    "\n",
    "### 1.2) Model validation metrics ( Recall, precision, confusion matrix, ROC curve and AOC, F1)\n",
    "\n",
    "Last time we only used Accuracy to score efficiency of our models. There are many more available metrics. Choosing one of them will depend of the model, and on the type of prediction you're working on.\n",
    "\n",
    "https://developers.google.com/machine-learning/crash-course/classification/video-lecture\n",
    "( video and following sections of the classification chapter)\n",
    "\n",
    "( and a cheat sheet :\n",
    "https://stanford.edu/~shervine/l/fr/teaching/cs-229/pense-bete-machine-learning-petites-astuces )\n",
    "\n",
    "\n",
    "\n",
    "\n",
    "### 1.3) Model validation functions, cross validation and gridsearch for hyperparameter tuning\n",
    "\n",
    "Scikit Learn propose useful features to help us validate our models, and tune them with the best hyperparameters : \n",
    "\n",
    "https://jakevdp.github.io/PythonDataScienceHandbook/05.03-hyperparameters-and-model-validation.html\n",
    "\n",
    "\n",
    "### 1.4) With this knowledge, you should be able to understand these 3 notebooks :\n",
    "\n",
    "\n",
    "https://github.com/robderon/Python-for-data-analysis/tree/master/cours%20romain%20jouin\n",
    "\n",
    "\n",
    "\n",
    "### 1.4) to go further, after the lesson, you should read full chapter 5 of the Python Data Science Handbook\n",
    "\n",
    "https://jakevdp.github.io/PythonDataScienceHandbook/index.html\n",
    "\n",
    "\n",
    "\n",
    "### 1.5) .. and spend some time on the scikit learn documentation\n",
    "\n",
    "\n",
    "https://scikit-learn.org/stable/getting_started.html\n",
    "\n",
    "https://scikit-learn.org/stable/modules/model_evaluation.html\n",
    "\n",
    "https://scikit-learn.org/stable/modules/cross_validation.html#computing-cross-validated-metrics\n",
    "\n",
    "https://scikit-learn.org/stable/auto_examples/model_selection/plot_grid_search_digits.html#sphx-glr-auto-examples-model-selection-plot-grid-search-digits-py\n",
    "\n",
    "\n",
    "\n",
    "\n",
    " "
   ]
  },
  {
   "cell_type": "markdown",
   "metadata": {},
   "source": [
    "# 2) Releasing your models using an API\n",
    "\n",
    "Now that you are able to choose, tune and train a model for your dataset, You want to make it available to the outside world, or to your client only.\n",
    "\n",
    "Making it available as a REST API is a simple and efficient solution, that can be easily integrated into your customer's infrastructure.\n",
    "\n",
    "\n",
    "One big question remains : Which Python Framework to choose ?\n",
    "\n",
    "By far, the most popular Python frameworks are Django and Flask. They are both well documented and maintained. Django is more advanced, more strict  but it is also harder to use. it has a clear MVC organization, integrated ORM, but it feels like too much software for small projects. On the other side, Flask is small, simpler, and less strict.\n",
    "\n",
    "\n",
    "\n",
    "- You will find here a step by step guide for the Flask solution :  \n",
    "  https://www.kdnuggets.com/2019/01/build-api-machine-learning-model-using-flask.html\n",
    "\n",
    "\n",
    "- You will find p 157 of formation_intro_python_officielle.pdf a step by step guide for the Django solution.\n",
    "\n",
    "I let you decide which way you want to go !"
   ]
  },
  {
   "cell_type": "markdown",
   "metadata": {},
   "source": [
    "# 3) Exercise \n",
    "\n",
    "- Train a Scikit learn prediction model to detect fake news in english.\n",
    "- Release your model through a Rest Api\n",
    "- Present your work using Curl as a http client\n",
    "\n",
    "\n",
    "Text data must be transformed to numerical data to become useful for our models. Multiple techniques exist. please read following articles on the subject :\n",
    "\n",
    "https://medium.com/@paritosh_30025/natural-language-processing-text-data-vectorization-af2520529cf7\n",
    "\n",
    "( to go further :  \n",
    "https://www.oreilly.com/library/view/applied-text-analysis/9781491963036/ch04.html )\n",
    "\n",
    "\n"
   ]
  },
  {
   "cell_type": "markdown",
   "metadata": {},
   "source": [
    "# Le dataset\n",
    "https://www.kaggle.com/clmentbisaillon/fake-and-real-news-dataset?select=Fake.csv\n",
    "\n",
    "- title : The title of the article\n",
    "- text : The text of the article\n",
    "- subject : The subject of the article\n",
    "- date : date of the article"
   ]
  },
  {
   "cell_type": "code",
   "execution_count": 1,
   "metadata": {},
   "outputs": [],
   "source": [
    "import pandas as pd\n",
    "fake = pd.read_csv(\"Fake.csv\")\n",
    "true = pd.read_csv(\"True.csv\")\n"
   ]
  },
  {
   "cell_type": "code",
   "execution_count": 2,
   "metadata": {},
   "outputs": [
    {
     "data": {
      "text/html": [
       "<div>\n",
       "<style scoped>\n",
       "    .dataframe tbody tr th:only-of-type {\n",
       "        vertical-align: middle;\n",
       "    }\n",
       "\n",
       "    .dataframe tbody tr th {\n",
       "        vertical-align: top;\n",
       "    }\n",
       "\n",
       "    .dataframe thead th {\n",
       "        text-align: right;\n",
       "    }\n",
       "</style>\n",
       "<table border=\"1\" class=\"dataframe\">\n",
       "  <thead>\n",
       "    <tr style=\"text-align: right;\">\n",
       "      <th></th>\n",
       "      <th>title</th>\n",
       "      <th>text</th>\n",
       "      <th>subject</th>\n",
       "      <th>date</th>\n",
       "    </tr>\n",
       "  </thead>\n",
       "  <tbody>\n",
       "    <tr>\n",
       "      <th>0</th>\n",
       "      <td>Donald Trump Sends Out Embarrassing New Year’...</td>\n",
       "      <td>Donald Trump just couldn t wish all Americans ...</td>\n",
       "      <td>News</td>\n",
       "      <td>December 31, 2017</td>\n",
       "    </tr>\n",
       "    <tr>\n",
       "      <th>1</th>\n",
       "      <td>Drunk Bragging Trump Staffer Started Russian ...</td>\n",
       "      <td>House Intelligence Committee Chairman Devin Nu...</td>\n",
       "      <td>News</td>\n",
       "      <td>December 31, 2017</td>\n",
       "    </tr>\n",
       "    <tr>\n",
       "      <th>2</th>\n",
       "      <td>Sheriff David Clarke Becomes An Internet Joke...</td>\n",
       "      <td>On Friday, it was revealed that former Milwauk...</td>\n",
       "      <td>News</td>\n",
       "      <td>December 30, 2017</td>\n",
       "    </tr>\n",
       "    <tr>\n",
       "      <th>3</th>\n",
       "      <td>Trump Is So Obsessed He Even Has Obama’s Name...</td>\n",
       "      <td>On Christmas day, Donald Trump announced that ...</td>\n",
       "      <td>News</td>\n",
       "      <td>December 29, 2017</td>\n",
       "    </tr>\n",
       "    <tr>\n",
       "      <th>4</th>\n",
       "      <td>Pope Francis Just Called Out Donald Trump Dur...</td>\n",
       "      <td>Pope Francis used his annual Christmas Day mes...</td>\n",
       "      <td>News</td>\n",
       "      <td>December 25, 2017</td>\n",
       "    </tr>\n",
       "  </tbody>\n",
       "</table>\n",
       "</div>"
      ],
      "text/plain": [
       "                                               title  \\\n",
       "0   Donald Trump Sends Out Embarrassing New Year’...   \n",
       "1   Drunk Bragging Trump Staffer Started Russian ...   \n",
       "2   Sheriff David Clarke Becomes An Internet Joke...   \n",
       "3   Trump Is So Obsessed He Even Has Obama’s Name...   \n",
       "4   Pope Francis Just Called Out Donald Trump Dur...   \n",
       "\n",
       "                                                text subject  \\\n",
       "0  Donald Trump just couldn t wish all Americans ...    News   \n",
       "1  House Intelligence Committee Chairman Devin Nu...    News   \n",
       "2  On Friday, it was revealed that former Milwauk...    News   \n",
       "3  On Christmas day, Donald Trump announced that ...    News   \n",
       "4  Pope Francis used his annual Christmas Day mes...    News   \n",
       "\n",
       "                date  \n",
       "0  December 31, 2017  \n",
       "1  December 31, 2017  \n",
       "2  December 30, 2017  \n",
       "3  December 29, 2017  \n",
       "4  December 25, 2017  "
      ]
     },
     "execution_count": 2,
     "metadata": {},
     "output_type": "execute_result"
    }
   ],
   "source": [
    "#Transformat\n",
    "fake.head(5)"
   ]
  },
  {
   "cell_type": "code",
   "execution_count": 3,
   "metadata": {},
   "outputs": [
    {
     "data": {
      "text/html": [
       "<div>\n",
       "<style scoped>\n",
       "    .dataframe tbody tr th:only-of-type {\n",
       "        vertical-align: middle;\n",
       "    }\n",
       "\n",
       "    .dataframe tbody tr th {\n",
       "        vertical-align: top;\n",
       "    }\n",
       "\n",
       "    .dataframe thead th {\n",
       "        text-align: right;\n",
       "    }\n",
       "</style>\n",
       "<table border=\"1\" class=\"dataframe\">\n",
       "  <thead>\n",
       "    <tr style=\"text-align: right;\">\n",
       "      <th></th>\n",
       "      <th>title</th>\n",
       "      <th>text</th>\n",
       "      <th>subject</th>\n",
       "      <th>date</th>\n",
       "      <th>Y</th>\n",
       "    </tr>\n",
       "  </thead>\n",
       "  <tbody>\n",
       "    <tr>\n",
       "      <th>0</th>\n",
       "      <td>Donald Trump Sends Out Embarrassing New Year’...</td>\n",
       "      <td>Donald Trump just couldn t wish all Americans ...</td>\n",
       "      <td>News</td>\n",
       "      <td>December 31, 2017</td>\n",
       "      <td>0</td>\n",
       "    </tr>\n",
       "    <tr>\n",
       "      <th>1</th>\n",
       "      <td>Drunk Bragging Trump Staffer Started Russian ...</td>\n",
       "      <td>House Intelligence Committee Chairman Devin Nu...</td>\n",
       "      <td>News</td>\n",
       "      <td>December 31, 2017</td>\n",
       "      <td>0</td>\n",
       "    </tr>\n",
       "    <tr>\n",
       "      <th>2</th>\n",
       "      <td>Sheriff David Clarke Becomes An Internet Joke...</td>\n",
       "      <td>On Friday, it was revealed that former Milwauk...</td>\n",
       "      <td>News</td>\n",
       "      <td>December 30, 2017</td>\n",
       "      <td>0</td>\n",
       "    </tr>\n",
       "    <tr>\n",
       "      <th>3</th>\n",
       "      <td>Trump Is So Obsessed He Even Has Obama’s Name...</td>\n",
       "      <td>On Christmas day, Donald Trump announced that ...</td>\n",
       "      <td>News</td>\n",
       "      <td>December 29, 2017</td>\n",
       "      <td>0</td>\n",
       "    </tr>\n",
       "    <tr>\n",
       "      <th>4</th>\n",
       "      <td>Pope Francis Just Called Out Donald Trump Dur...</td>\n",
       "      <td>Pope Francis used his annual Christmas Day mes...</td>\n",
       "      <td>News</td>\n",
       "      <td>December 25, 2017</td>\n",
       "      <td>0</td>\n",
       "    </tr>\n",
       "  </tbody>\n",
       "</table>\n",
       "</div>"
      ],
      "text/plain": [
       "                                               title  \\\n",
       "0   Donald Trump Sends Out Embarrassing New Year’...   \n",
       "1   Drunk Bragging Trump Staffer Started Russian ...   \n",
       "2   Sheriff David Clarke Becomes An Internet Joke...   \n",
       "3   Trump Is So Obsessed He Even Has Obama’s Name...   \n",
       "4   Pope Francis Just Called Out Donald Trump Dur...   \n",
       "\n",
       "                                                text subject  \\\n",
       "0  Donald Trump just couldn t wish all Americans ...    News   \n",
       "1  House Intelligence Committee Chairman Devin Nu...    News   \n",
       "2  On Friday, it was revealed that former Milwauk...    News   \n",
       "3  On Christmas day, Donald Trump announced that ...    News   \n",
       "4  Pope Francis used his annual Christmas Day mes...    News   \n",
       "\n",
       "                date  Y  \n",
       "0  December 31, 2017  0  \n",
       "1  December 31, 2017  0  \n",
       "2  December 30, 2017  0  \n",
       "3  December 29, 2017  0  \n",
       "4  December 25, 2017  0  "
      ]
     },
     "execution_count": 3,
     "metadata": {},
     "output_type": "execute_result"
    }
   ],
   "source": [
    "#On ajoute une colonne pour Y avec 0 = fake et 1 = true\n",
    "fake['Y'] = 0\n",
    "true['Y'] = 1\n",
    "\n",
    "#On regroupe les deux datasets\n",
    "data = pd.concat([fake, true]).reset_index(drop = True)\n",
    "data.head()"
   ]
  },
  {
   "cell_type": "code",
   "execution_count": 4,
   "metadata": {},
   "outputs": [
    {
     "data": {
      "text/html": [
       "<div>\n",
       "<style scoped>\n",
       "    .dataframe tbody tr th:only-of-type {\n",
       "        vertical-align: middle;\n",
       "    }\n",
       "\n",
       "    .dataframe tbody tr th {\n",
       "        vertical-align: top;\n",
       "    }\n",
       "\n",
       "    .dataframe thead th {\n",
       "        text-align: right;\n",
       "    }\n",
       "</style>\n",
       "<table border=\"1\" class=\"dataframe\">\n",
       "  <thead>\n",
       "    <tr style=\"text-align: right;\">\n",
       "      <th></th>\n",
       "      <th>title</th>\n",
       "      <th>text</th>\n",
       "      <th>subject</th>\n",
       "      <th>date</th>\n",
       "      <th>Y</th>\n",
       "    </tr>\n",
       "  </thead>\n",
       "  <tbody>\n",
       "    <tr>\n",
       "      <th>0</th>\n",
       "      <td>TRUMP SAYS “YES” To Federal Funding For Planne...</td>\n",
       "      <td>Sounds like a great deal, right? After all, Pl...</td>\n",
       "      <td>politics</td>\n",
       "      <td>Mar 7, 2017</td>\n",
       "      <td>0</td>\n",
       "    </tr>\n",
       "    <tr>\n",
       "      <th>1</th>\n",
       "      <td>Ukrainian MP offers more details on alleged pa...</td>\n",
       "      <td>KIEV (Reuters) - A Ukrainian lawmaker on Frida...</td>\n",
       "      <td>politicsNews</td>\n",
       "      <td>August 19, 2016</td>\n",
       "      <td>1</td>\n",
       "    </tr>\n",
       "    <tr>\n",
       "      <th>2</th>\n",
       "      <td>CORRUPT STATE DEPARTMENT Deletes Key Info From...</td>\n",
       "      <td>This is seriously concerning! James Rosen call...</td>\n",
       "      <td>Government News</td>\n",
       "      <td>Jun 2, 2016</td>\n",
       "      <td>0</td>\n",
       "    </tr>\n",
       "    <tr>\n",
       "      <th>3</th>\n",
       "      <td>'Deadline of deadlines' in Brexit divorce talk...</td>\n",
       "      <td>BRUSSELS (Reuters) - Theresa May must deliver ...</td>\n",
       "      <td>worldnews</td>\n",
       "      <td>December 5, 2017</td>\n",
       "      <td>1</td>\n",
       "    </tr>\n",
       "    <tr>\n",
       "      <th>4</th>\n",
       "      <td>TREY GOWDY SLAMS Mueller Teams Over Leaks Abou...</td>\n",
       "      <td>Republican Rep. Trey Gowdy, the leader of the ...</td>\n",
       "      <td>left-news</td>\n",
       "      <td>Oct 29, 2017</td>\n",
       "      <td>0</td>\n",
       "    </tr>\n",
       "    <tr>\n",
       "      <th>5</th>\n",
       "      <td>Yes he can: 'Clever boy' Obama returns to Indo...</td>\n",
       "      <td>(This story corrects typo in 10th paragraph.)...</td>\n",
       "      <td>politicsNews</td>\n",
       "      <td>June 28, 2017</td>\n",
       "      <td>1</td>\n",
       "    </tr>\n",
       "    <tr>\n",
       "      <th>6</th>\n",
       "      <td>White House, intel chiefs want to make digital...</td>\n",
       "      <td>WASHINGTON (Reuters) - The White House and U.S...</td>\n",
       "      <td>politicsNews</td>\n",
       "      <td>June 7, 2017</td>\n",
       "      <td>1</td>\n",
       "    </tr>\n",
       "    <tr>\n",
       "      <th>7</th>\n",
       "      <td>Factbox: Trump on Twitter (July 27) - NY Times...</td>\n",
       "      <td>The following statements were posted to the ve...</td>\n",
       "      <td>politicsNews</td>\n",
       "      <td>July 27, 2017</td>\n",
       "      <td>1</td>\n",
       "    </tr>\n",
       "    <tr>\n",
       "      <th>8</th>\n",
       "      <td>Fearing far-right surge, Merkel tells Germans ...</td>\n",
       "      <td>BERLIN (Reuters) - Fears in Germany that vote...</td>\n",
       "      <td>worldnews</td>\n",
       "      <td>September 21, 2017</td>\n",
       "      <td>1</td>\n",
       "    </tr>\n",
       "    <tr>\n",
       "      <th>9</th>\n",
       "      <td>RECKLESS: Democratic Party Creating a ‘Russian...</td>\n",
       "      <td>21st Century Wire says The Hillary Clinton cam...</td>\n",
       "      <td>US_News</td>\n",
       "      <td>October 13, 2016</td>\n",
       "      <td>0</td>\n",
       "    </tr>\n",
       "  </tbody>\n",
       "</table>\n",
       "</div>"
      ],
      "text/plain": [
       "                                               title  \\\n",
       "0  TRUMP SAYS “YES” To Federal Funding For Planne...   \n",
       "1  Ukrainian MP offers more details on alleged pa...   \n",
       "2  CORRUPT STATE DEPARTMENT Deletes Key Info From...   \n",
       "3  'Deadline of deadlines' in Brexit divorce talk...   \n",
       "4  TREY GOWDY SLAMS Mueller Teams Over Leaks Abou...   \n",
       "5  Yes he can: 'Clever boy' Obama returns to Indo...   \n",
       "6  White House, intel chiefs want to make digital...   \n",
       "7  Factbox: Trump on Twitter (July 27) - NY Times...   \n",
       "8  Fearing far-right surge, Merkel tells Germans ...   \n",
       "9  RECKLESS: Democratic Party Creating a ‘Russian...   \n",
       "\n",
       "                                                text          subject  \\\n",
       "0  Sounds like a great deal, right? After all, Pl...         politics   \n",
       "1  KIEV (Reuters) - A Ukrainian lawmaker on Frida...     politicsNews   \n",
       "2  This is seriously concerning! James Rosen call...  Government News   \n",
       "3  BRUSSELS (Reuters) - Theresa May must deliver ...        worldnews   \n",
       "4  Republican Rep. Trey Gowdy, the leader of the ...        left-news   \n",
       "5   (This story corrects typo in 10th paragraph.)...     politicsNews   \n",
       "6  WASHINGTON (Reuters) - The White House and U.S...     politicsNews   \n",
       "7  The following statements were posted to the ve...     politicsNews   \n",
       "8   BERLIN (Reuters) - Fears in Germany that vote...        worldnews   \n",
       "9  21st Century Wire says The Hillary Clinton cam...          US_News   \n",
       "\n",
       "                  date  Y  \n",
       "0          Mar 7, 2017  0  \n",
       "1     August 19, 2016   1  \n",
       "2          Jun 2, 2016  0  \n",
       "3    December 5, 2017   1  \n",
       "4         Oct 29, 2017  0  \n",
       "5       June 28, 2017   1  \n",
       "6        June 7, 2017   1  \n",
       "7       July 27, 2017   1  \n",
       "8  September 21, 2017   1  \n",
       "9     October 13, 2016  0  "
      ]
     },
     "execution_count": 4,
     "metadata": {},
     "output_type": "execute_result"
    }
   ],
   "source": [
    "#Avant le split par sécurité je vais mélanger les données\n",
    "from sklearn.utils import shuffle\n",
    "data = shuffle(data)\n",
    "data = data.reset_index(drop=True)\n",
    "data.head(10)"
   ]
  },
  {
   "cell_type": "code",
   "execution_count": 5,
   "metadata": {},
   "outputs": [
    {
     "data": {
      "text/plain": [
       "<AxesSubplot:xlabel='Y'>"
      ]
     },
     "execution_count": 5,
     "metadata": {},
     "output_type": "execute_result"
    },
    {
     "data": {
      "image/png": "[encoded data removed]",
      "text/plain": [
       "<Figure size 432x288 with 1 Axes>"
      ]
     },
     "metadata": {
      "needs_background": "light"
     },
     "output_type": "display_data"
    }
   ],
   "source": [
    "#La repartition du dataset\n",
    "data.groupby(['Y'])['text'].count().plot(kind='bar')"
   ]
  },
  {
   "cell_type": "code",
   "execution_count": null,
   "metadata": {},
   "outputs": [],
   "source": []
  },
  {
   "cell_type": "code",
   "execution_count": 6,
   "metadata": {},
   "outputs": [
    {
     "data": {
      "text/html": [
       "<div>\n",
       "<style scoped>\n",
       "    .dataframe tbody tr th:only-of-type {\n",
       "        vertical-align: middle;\n",
       "    }\n",
       "\n",
       "    .dataframe tbody tr th {\n",
       "        vertical-align: top;\n",
       "    }\n",
       "\n",
       "    .dataframe thead th {\n",
       "        text-align: right;\n",
       "    }\n",
       "</style>\n",
       "<table border=\"1\" class=\"dataframe\">\n",
       "  <thead>\n",
       "    <tr style=\"text-align: right;\">\n",
       "      <th></th>\n",
       "      <th>text</th>\n",
       "      <th>Y</th>\n",
       "    </tr>\n",
       "  </thead>\n",
       "  <tbody>\n",
       "    <tr>\n",
       "      <th>0</th>\n",
       "      <td>Sounds like a great deal, right? After all, Pl...</td>\n",
       "      <td>0</td>\n",
       "    </tr>\n",
       "    <tr>\n",
       "      <th>1</th>\n",
       "      <td>KIEV (Reuters) - A Ukrainian lawmaker on Frida...</td>\n",
       "      <td>1</td>\n",
       "    </tr>\n",
       "    <tr>\n",
       "      <th>2</th>\n",
       "      <td>This is seriously concerning! James Rosen call...</td>\n",
       "      <td>0</td>\n",
       "    </tr>\n",
       "    <tr>\n",
       "      <th>3</th>\n",
       "      <td>BRUSSELS (Reuters) - Theresa May must deliver ...</td>\n",
       "      <td>1</td>\n",
       "    </tr>\n",
       "    <tr>\n",
       "      <th>4</th>\n",
       "      <td>Republican Rep. Trey Gowdy, the leader of the ...</td>\n",
       "      <td>0</td>\n",
       "    </tr>\n",
       "  </tbody>\n",
       "</table>\n",
       "</div>"
      ],
      "text/plain": [
       "                                                text  Y\n",
       "0  Sounds like a great deal, right? After all, Pl...  0\n",
       "1  KIEV (Reuters) - A Ukrainian lawmaker on Frida...  1\n",
       "2  This is seriously concerning! James Rosen call...  0\n",
       "3  BRUSSELS (Reuters) - Theresa May must deliver ...  1\n",
       "4  Republican Rep. Trey Gowdy, the leader of the ...  0"
      ]
     },
     "execution_count": 6,
     "metadata": {},
     "output_type": "execute_result"
    }
   ],
   "source": [
    "#Recuperation du text et du Y\n",
    "data_ = data[[\"text\",\"Y\"]]\n",
    "data_.head()"
   ]
  },
  {
   "cell_type": "code",
   "execution_count": 7,
   "metadata": {},
   "outputs": [
    {
     "name": "stderr",
     "output_type": "stream",
     "text": [
      "<ipython-input-7-1617465db476>:3: SettingWithCopyWarning: \n",
      "A value is trying to be set on a copy of a slice from a DataFrame.\n",
      "Try using .loc[row_indexer,col_indexer] = value instead\n",
      "\n",
      "See the caveats in the documentation: https://pandas.pydata.org/pandas-docs/stable/user_guide/indexing.html#returning-a-view-versus-a-copy\n",
      "  data_['text'] = data_['text'].apply(lambda x: x.lower())\n",
      "[nltk_data] Downloading package stopwords to\n",
      "[nltk_data]     C:\\Users\\kenny\\AppData\\Roaming\\nltk_data...\n",
      "[nltk_data]   Package stopwords is already up-to-date!\n",
      "<ipython-input-7-1617465db476>:11: SettingWithCopyWarning: \n",
      "A value is trying to be set on a copy of a slice from a DataFrame.\n",
      "Try using .loc[row_indexer,col_indexer] = value instead\n",
      "\n",
      "See the caveats in the documentation: https://pandas.pydata.org/pandas-docs/stable/user_guide/indexing.html#returning-a-view-versus-a-copy\n",
      "  data_['text'] = data_['text'].apply(lambda x: ' '.join([word for word in x.split() if word not in (stop)]))\n"
     ]
    }
   ],
   "source": [
    "#Traitement des données\n",
    "#On commence par mettre tout en minuscule\n",
    "data_['text'] = data_['text'].apply(lambda x: x.lower())\n",
    "\n",
    "#On retire les mots inutiles aussi appelé StopWord (ex :the, in..) qui sont présent trop régulierement \n",
    "#et n'apporte pet ou pas d'information\n",
    "import nltk\n",
    "nltk.download('stopwords')\n",
    "from nltk.corpus import stopwords\n",
    "stop = stopwords.words('english')\n",
    "data_['text'] = data_['text'].apply(lambda x: ' '.join([word for word in x.split() if word not in (stop)]))"
   ]
  },
  {
   "cell_type": "code",
   "execution_count": 8,
   "metadata": {},
   "outputs": [],
   "source": [
    "#Séparons les datasets en train, validation et test\n",
    "from sklearn.model_selection import train_test_split\n",
    "Xtrain, Xtest, ytrain, ytest = train_test_split(data_[\"text\"], data_[\"Y\"], random_state=1)"
   ]
  },
  {
   "cell_type": "code",
   "execution_count": null,
   "metadata": {},
   "outputs": [],
   "source": []
  },
  {
   "cell_type": "code",
   "execution_count": 9,
   "metadata": {},
   "outputs": [],
   "source": [
    "#https://scikit-learn.org/stable/modules/generated/sklearn.feature_extraction.text.TfidfTransformer.html\n",
    "from sklearn.linear_model import LogisticRegression\n",
    "from sklearn.pipeline import Pipeline\n",
    "from sklearn.feature_extraction.text import CountVectorizer\n",
    "from sklearn.feature_extraction.text import TfidfTransformer\n",
    "\n",
    "algo = Pipeline([('vect', CountVectorizer()),\n",
    "                 ('tfidf', TfidfTransformer()),\n",
    "                 ('model', LogisticRegression())])\n",
    "\n",
    "modele = algo.fit(Xtrain, ytrain)"
   ]
  },
  {
   "cell_type": "code",
   "execution_count": 10,
   "metadata": {},
   "outputs": [
    {
     "data": {
      "text/plain": [
       "0.9893986636971047"
      ]
     },
     "execution_count": 10,
     "metadata": {},
     "output_type": "execute_result"
    }
   ],
   "source": [
    "modele.score(Xtest, ytest)"
   ]
  },
  {
   "cell_type": "code",
   "execution_count": 11,
   "metadata": {},
   "outputs": [],
   "source": [
    "prediction = modele.predict(Xtest)"
   ]
  },
  {
   "cell_type": "code",
   "execution_count": 12,
   "metadata": {},
   "outputs": [],
   "source": [
    "def draw_confusion_matrix(y_test, predictions, title):\n",
    "    \"\"\"\n",
    "    Créé et affiche la matrice de confusion des données de Y_test et de celles sur lesquelles on a fait la prédiction.\n",
    "    Permet d'évaluer la qualité de la classification souhaitée.\n",
    "    Plus les valeurs diagonales sont élevées, plus le classifieur prédit correctement.\n",
    "    \"\"\"\n",
    "    from sklearn.metrics import confusion_matrix,accuracy_score\n",
    "    import matplotlib.pyplot as plt\n",
    "    cm    = confusion_matrix(y_test, predictions)\n",
    "    accur = accuracy_score  (y_test, predictions)\n",
    "    \n",
    "    plt.matshow  (cm)\n",
    "    plt.ylabel   ('True Label')\n",
    "    plt.xlabel   ('Predicted Label')\n",
    "    plt.suptitle ('Confusion matrix (Accuracy of %.2f) for [%s]'%(accur,title))\n",
    "    plt.colorbar ()\n",
    "    plt.show     ()"
   ]
  },
  {
   "cell_type": "code",
   "execution_count": null,
   "metadata": {},
   "outputs": [],
   "source": []
  },
  {
   "cell_type": "code",
   "execution_count": 13,
   "metadata": {},
   "outputs": [
    {
     "data": {
      "image/png": "[encoded data removed]",
      "text/plain": [
       "<Figure size 288x288 with 2 Axes>"
      ]
     },
     "metadata": {
      "needs_background": "light"
     },
     "output_type": "display_data"
    }
   ],
   "source": [
    "draw_confusion_matrix(ytest,prediction,\"Matrice de confusion sur le test de validation\")"
   ]
  },
  {
   "cell_type": "code",
   "execution_count": 14,
   "metadata": {},
   "outputs": [],
   "source": [
    "#enregistrenotre modele\n",
    "import pickle\n",
    "pickle.dump(modele, open('final_prediction.pickle', 'wb'))"
   ]
  },
  {
   "cell_type": "code",
   "execution_count": 15,
   "metadata": {},
   "outputs": [
    {
     "name": "stdout",
     "output_type": "stream",
     "text": [
      "Requirement already satisfied: flask in c:\\users\\kenny\\appdata\\local\\programs\\python\\python38\\lib\\site-packages (1.1.2)\n",
      "Requirement already satisfied: itsdangerous>=0.24 in c:\\users\\kenny\\appdata\\local\\programs\\python\\python38\\lib\\site-packages (from flask) (1.1.0)\n",
      "Requirement already satisfied: click>=5.1 in c:\\users\\kenny\\appdata\\local\\programs\\python\\python38\\lib\\site-packages (from flask) (7.1.2)\n",
      "Requirement already satisfied: Werkzeug>=0.15 in c:\\users\\kenny\\appdata\\local\\programs\\python\\python38\\lib\\site-packages (from flask) (1.0.1)\n",
      "Requirement already satisfied: Jinja2>=2.10.1 in c:\\users\\kenny\\appdata\\local\\programs\\python\\python38\\lib\\site-packages (from flask) (2.11.2)\n",
      "Requirement already satisfied: MarkupSafe>=0.23 in c:\\users\\kenny\\appdata\\local\\programs\\python\\python38\\lib\\site-packages (from Jinja2>=2.10.1->flask) (1.1.1)\n"
     ]
    },
    {
     "name": "stderr",
     "output_type": "stream",
     "text": [
      "WARNING: You are using pip version 19.2.3, however version 20.3.3 is available.\n",
      "You should consider upgrading via the 'python -m pip install --upgrade pip' command.\n"
     ]
    },
    {
     "name": "stdout",
     "output_type": "stream",
     "text": [
      "Requirement already satisfied: flask_cors in c:\\users\\kenny\\appdata\\local\\programs\\python\\python38\\lib\\site-packages (3.0.9)\n",
      "Requirement already satisfied: Six in c:\\users\\kenny\\appdata\\local\\programs\\python\\python38\\lib\\site-packages (from flask_cors) (1.15.0)\n",
      "Requirement already satisfied: Flask>=0.9 in c:\\users\\kenny\\appdata\\local\\programs\\python\\python38\\lib\\site-packages (from flask_cors) (1.1.2)\n",
      "Requirement already satisfied: click>=5.1 in c:\\users\\kenny\\appdata\\local\\programs\\python\\python38\\lib\\site-packages (from Flask>=0.9->flask_cors) (7.1.2)\n",
      "Requirement already satisfied: itsdangerous>=0.24 in c:\\users\\kenny\\appdata\\local\\programs\\python\\python38\\lib\\site-packages (from Flask>=0.9->flask_cors) (1.1.0)\n",
      "Requirement already satisfied: Werkzeug>=0.15 in c:\\users\\kenny\\appdata\\local\\programs\\python\\python38\\lib\\site-packages (from Flask>=0.9->flask_cors) (1.0.1)\n",
      "Requirement already satisfied: Jinja2>=2.10.1 in c:\\users\\kenny\\appdata\\local\\programs\\python\\python38\\lib\\site-packages (from Flask>=0.9->flask_cors) (2.11.2)\n",
      "Requirement already satisfied: MarkupSafe>=0.23 in c:\\users\\kenny\\appdata\\local\\programs\\python\\python38\\lib\\site-packages (from Jinja2>=2.10.1->Flask>=0.9->flask_cors) (1.1.1)\n"
     ]
    },
    {
     "name": "stderr",
     "output_type": "stream",
     "text": [
      "WARNING: You are using pip version 19.2.3, however version 20.3.3 is available.\n",
      "You should consider upgrading via the 'python -m pip install --upgrade pip' command.\n"
     ]
    }
   ],
   "source": [
    "!pip install flask\n",
    "!pip install flask_cors"
   ]
  },
  {
   "cell_type": "code",
   "execution_count": 42,
   "metadata": {},
   "outputs": [
    {
     "name": "stderr",
     "output_type": "stream",
     "text": [
      "[nltk_data] Downloading package stopwords to\n",
      "[nltk_data]     C:\\Users\\kenny\\AppData\\Roaming\\nltk_data...\n",
      "[nltk_data]   Package stopwords is already up-to-date!\n",
      " * Running on http://localhost:4200/ (Press CTRL+C to quit)\n"
     ]
    }
   ],
   "source": [
    "#Cree un serveur local\n",
    "from flask import Flask, request, redirect, url_for, flash, jsonify\n",
    "import numpy as np\n",
    "import pickle as p\n",
    "import json\n",
    "import nltk\n",
    "nltk.download('stopwords')\n",
    "from nltk.corpus import stopwords\n",
    "stop = stopwords.words('english')\n",
    "\n",
    "import socket\n",
    "import threading\n",
    "import uuid\n",
    "from typing import Any, Callable, cast, Optional\n",
    "\n",
    "from flask import Flask, abort, jsonify\n",
    "from flask_cors import cross_origin\n",
    "from werkzeug.serving import run_simple\n",
    "\n",
    "app = Flask('DataServer')\n",
    "\n",
    "_port: int = 5000\n",
    "\n",
    "#dans /api on peut faire des predictions\n",
    "@app.route('/api/', methods=['GET','POST'])\n",
    "def makecalc():\n",
    "    data = request.get_json()\n",
    "    print(data)\n",
    "    data = data.apply(lambda x: ' '.join([word for word in x.split() if word not in (stop)]))\n",
    "    #prediction = np.array2string(model.predict(data))\n",
    "    return jsonify(\"oui\")\n",
    "\n",
    "def _init_port() -> int:\n",
    "    \"\"\"Creates a random free port.\"\"\"\n",
    "    # see https://stackoverflow.com/a/5089963/2297345\n",
    "    sock = socket.socket(socket.AF_INET, socket.SOCK_STREAM)\n",
    "    sock.bind(('localhost', 4200))\n",
    "\n",
    "    port = sock.getsockname()[1]\n",
    "    sock.close()\n",
    "    return cast(int, port)\n",
    "\n",
    "def _start_sever() -> None:\n",
    "    \"\"\"Starts a flask server in the background.\"\"\"\n",
    "    modelfile = 'final_prediction.pickle'\n",
    "    model = p.load(open(modelfile, 'rb'))\n",
    "    _port = _init_port()\n",
    "    thread = threading.Thread(target=lambda: run_simple('localhost', _port, app))\n",
    "    thread.start()\n",
    "    \n",
    "_start_sever()"
   ]
  },
  {
   "cell_type": "code",
   "execution_count": null,
   "metadata": {},
   "outputs": [],
   "source": [
    "#https://stackoverflow.com/questions/41831929/debug-flask-server-inside-jupyter-notebook"
   ]
  },
  {
   "cell_type": "code",
   "execution_count": 43,
   "metadata": {},
   "outputs": [
    {
     "name": "stderr",
     "output_type": "stream",
     "text": [
      "[2020-12-17 11:14:19,640] ERROR in app: Exception on /api/ [POST]\n",
      "Traceback (most recent call last):\n",
      "  File \"c:\\users\\kenny\\appdata\\local\\programs\\python\\python38\\lib\\site-packages\\flask\\app.py\", line 2447, in wsgi_app\n",
      "    response = self.full_dispatch_request()\n",
      "  File \"c:\\users\\kenny\\appdata\\local\\programs\\python\\python38\\lib\\site-packages\\flask\\app.py\", line 1952, in full_dispatch_request\n",
      "    rv = self.handle_user_exception(e)\n",
      "  File \"c:\\users\\kenny\\appdata\\local\\programs\\python\\python38\\lib\\site-packages\\flask\\app.py\", line 1821, in handle_user_exception\n",
      "    reraise(exc_type, exc_value, tb)\n",
      "  File \"c:\\users\\kenny\\appdata\\local\\programs\\python\\python38\\lib\\site-packages\\flask\\_compat.py\", line 39, in reraise\n",
      "    raise value\n",
      "  File \"c:\\users\\kenny\\appdata\\local\\programs\\python\\python38\\lib\\site-packages\\flask\\app.py\", line 1950, in full_dispatch_request\n",
      "    rv = self.dispatch_request()\n",
      "  File \"c:\\users\\kenny\\appdata\\local\\programs\\python\\python38\\lib\\site-packages\\flask\\app.py\", line 1936, in dispatch_request\n",
      "    return self.view_functions[rule.endpoint](**req.view_args)\n",
      "  File \"<ipython-input-42-75e1d55e26b7>\", line 29, in makecalc\n",
      "    data = data.apply(lambda x: ' '.join([word for word in x.split() if word not in (stop)]))\n",
      "AttributeError: 'str' object has no attribute 'apply'\n",
      "127.0.0.1 - - [17/Dec/2020 11:14:19] \"\u001b[35m\u001b[1mPOST /api/ HTTP/1.1\u001b[0m\" 500 -\n"
     ]
    },
    {
     "name": "stdout",
     "output_type": "stream",
     "text": [
      "Trump hate German\n",
      "<Response [500]> <!DOCTYPE HTML PUBLIC \"-//W3C//DTD HTML 3.2 Final//EN\">\n",
      "<title>500 Internal Server Error</title>\n",
      "<h1>Internal Server Error</h1>\n",
      "<p>The server encountered an internal error and was unable to complete your request. Either the server is overloaded or there is an error in the application.</p>\n",
      "\n"
     ]
    }
   ],
   "source": [
    "import requests\n",
    "import json\n",
    "\n",
    "url = 'http://localhost:4200/api/'\n",
    "\n",
    "#http://www.legorafi.fr/2016/06/24/the-eu-refuses-to-validate-the-british-referendum-due-to-non-conforming-ballots-to-the-norm-of-the-eu/\n",
    "data = \"Trump hate German\"\n",
    "j_data = json.dumps(data)\n",
    "headers = {'content-type': 'application/json', 'Accept-Charset': 'UTF-8'}\n",
    "r = requests.post(url, data=j_data, headers=headers)\n",
    "print(r, r.text)"
   ]
  },
  {
   "cell_type": "code",
   "execution_count": null,
   "metadata": {},
   "outputs": [],
   "source": []
  }
 ],
 "metadata": {
  "kernelspec": {
   "display_name": "Python 3",
   "language": "python",
   "name": "python3"
  },
  "language_info": {
   "codemirror_mode": {
    "name": "ipython",
    "version": 3
   },
   "file_extension": ".py",
   "mimetype": "text/x-python",
   "name": "python",
   "nbconvert_exporter": "python",
   "pygments_lexer": "ipython3",
   "version": "3.8.3"
  }
 },
 "nbformat": 4,
 "nbformat_minor": 4
}
